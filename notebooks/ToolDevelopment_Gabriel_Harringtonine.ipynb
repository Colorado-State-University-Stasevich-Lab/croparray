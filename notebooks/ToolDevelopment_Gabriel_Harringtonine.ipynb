{
 "cells": [
  {
   "cell_type": "markdown",
   "metadata": {},
   "source": [
    "# Harringtonine: CropArray - Cellpose"
   ]
  },
  {
   "cell_type": "markdown",
   "metadata": {},
   "source": [
    "---"
   ]
  },
  {
   "cell_type": "markdown",
   "metadata": {},
   "source": [
    "## Notebook summary \n",
    "\n",
    "\n",
    "- Load a microscope image of video\n",
    "- Tracking spots on the image and generate a pandas dataframe with the spots locations\n",
    "- Creating a croparray with the image and dataframe\n",
    "- Signal quantification and plotting\n",
    "- Visualization of croparray with Napari\n",
    "\n",
    "----"
   ]
  },
  {
   "cell_type": "markdown",
   "metadata": {},
   "source": [
    "## Importing libraries\n",
    "\n",
    "\n",
    "----"
   ]
  },
  {
   "cell_type": "code",
   "execution_count": null,
   "metadata": {
    "jupyter": {
     "source_hidden": true
    }
   },
   "outputs": [],
   "source": [
    "# To manipulate arrays\n",
    "import numpy as np \n",
    "from skimage.io import imread\n",
    "import matplotlib.pyplot as plt \n",
    "import seaborn as sns; sns.set()  \n",
    "import pathlib # for working with windows paths\n",
    "import sys\n",
    "import trackpy as tp\n",
    "import pandas as pd\n",
    "import xarray as xr\n",
    "# Segmenting using cellpose\n",
    "from cellpose import models, core\n",
    "import warnings\n",
    "warnings.filterwarnings('ignore')\n",
    "# Importing croparray\n",
    "current_dir = pathlib.Path().absolute()\n",
    "croparray_dir = current_dir.parents[0].joinpath('croparray')\n",
    "sys.path.append(str(croparray_dir))\n",
    "import crop_array_tools as ca\n",
    "ca.print_banner()\n",
    "# %matplotlib inline \n",
    "plt.style.use('dark_background')"
   ]
  },
  {
   "cell_type": "markdown",
   "metadata": {},
   "source": [
    "## File paths\n",
    "\n",
    "\n",
    "----"
   ]
  },
  {
   "cell_type": "code",
   "execution_count": null,
   "metadata": {},
   "outputs": [],
   "source": [
    "#img_path = current_dir.parents[0].joinpath('database','20220210_metabolites_PEP_10mM_Max','MAX_Cell01.tif') \n",
    "#img_path = current_dir.parents[0].joinpath('database','20220210_metabolites_PEP_10mM_Max','MAX_Cell02_best.tif') \n",
    "#img_path = current_dir.parents[0].joinpath('database','20220210_metabolites_PEP_10mM_Max','MAX_Cell03.tif') \n",
    "img_path = current_dir.parents[0].joinpath('database','20220210_metabolites_PEP_10mM_Max','MAX_Cell04_awesome_stalling.tif') \n",
    "#img_path = current_dir.parents[0].joinpath('database','20220210_metabolites_PEP_10mM_Max','MAX_Cell05.tif') \n",
    "\n",
    "print(img_path)"
   ]
  },
  {
   "cell_type": "markdown",
   "metadata": {},
   "source": [
    "## Code parameters"
   ]
  },
  {
   "cell_type": "code",
   "execution_count": null,
   "metadata": {},
   "outputs": [],
   "source": [
    "nulceus_diameter_size = 100   # dimenssion in pixels\n",
    "cytosol_diameter_size = 200   # dimenssion in pixels\n",
    "particle_diameter = 7         # dimenssion in pixels\n",
    "min_mass_intensity = 1000     # minimal intensity to detect an spot\n"
   ]
  },
  {
   "cell_type": "markdown",
   "metadata": {},
   "source": [
    "## Loading data\n",
    "\n",
    "\n",
    "----"
   ]
  },
  {
   "cell_type": "code",
   "execution_count": null,
   "metadata": {},
   "outputs": [],
   "source": [
    "# Video directory\n",
    "img =  imread(str(img_path)) # F, Y, X, C \n",
    "img[0].shape"
   ]
  },
  {
   "cell_type": "code",
   "execution_count": null,
   "metadata": {},
   "outputs": [],
   "source": [
    "# Converting the video to Croparray format\n",
    "img_croparray = np.expand_dims(img,axis=0) # adding fov dimenssion\n",
    "img_croparray = np.expand_dims(img_croparray,axis=2) # adding z dimenssion\n",
    "img_croparray.shape # dimensions MUST be (fov, f , z, y, x, ch)\n",
    "img_croparray.shape\n",
    "print(\"croparray format shape [fov, f , z, y, x, ch] = \", img_croparray.shape)"
   ]
  },
  {
   "cell_type": "code",
   "execution_count": null,
   "metadata": {},
   "outputs": [],
   "source": [
    "# Plotting original image\n",
    "selected_time=0\n",
    "num_channels = img_croparray.shape[5] #3\n",
    "fig, ax = plt.subplots(nrows=1, ncols=num_channels,figsize=(15,7))\n",
    "for i in range(0,num_channels):\n",
    "    ax[i].imshow(np.max(img_croparray[0,selected_time,:,:,:,i] ,axis=0),cmap='viridis' )\n",
    "    ax[i].grid(False)\n",
    "    ax[i].set_title('Channel_'+str(i))"
   ]
  },
  {
   "cell_type": "markdown",
   "metadata": {},
   "source": [
    "## Max projection and masking\n",
    "\n",
    "\n",
    "----"
   ]
  },
  {
   "cell_type": "code",
   "execution_count": null,
   "metadata": {},
   "outputs": [],
   "source": [
    "#best_zs = [4,10]\n",
    "img_max = np.max(img_croparray[0,:,:,:,:,1],axis=1)\n",
    "img_max.shape"
   ]
  },
  {
   "cell_type": "markdown",
   "metadata": {},
   "source": [
    "# Segmentation using cellpose"
   ]
  },
  {
   "cell_type": "markdown",
   "metadata": {},
   "source": [
    "## Segmentation cytosol"
   ]
  },
  {
   "cell_type": "code",
   "execution_count": null,
   "metadata": {},
   "outputs": [],
   "source": [
    "# parameters for cellpose\n",
    "channels = [0,0]\n",
    "# Cellpose Model\n",
    "model = models.Cellpose(gpu=core.use_gpu(), model_type='cyto') # model_type='cyto' or model_type='nuclei'\n",
    "# Running the models\n",
    "masks_cyto, flows, styles, diams = model.eval(img_max[selected_time], diameter=cytosol_diameter_size, flow_threshold=None, channels=channels)\n",
    "print('Cellpose detcted ', str(np.amax(masks_cyto)), 'cytosol masks')\n",
    "\n",
    "# Plotting\n",
    "num_col = 2\n",
    "fig, ax = plt.subplots(nrows=1, ncols=num_col,figsize=(15,7))\n",
    "ax[0].imshow(img_max[selected_time],cmap='viridis' )\n",
    "ax[1].imshow(masks_cyto,cmap='Greys')\n",
    "plt.show()"
   ]
  },
  {
   "cell_type": "markdown",
   "metadata": {},
   "source": [
    "## Segmentation nucleus"
   ]
  },
  {
   "cell_type": "code",
   "execution_count": null,
   "metadata": {},
   "outputs": [],
   "source": [
    "# Cellpose model\n",
    "model = models.Cellpose(gpu=core.use_gpu(), model_type='nuclei') # model_type='cyto' or model_type='nuclei'\n",
    "# Running the models\n",
    "masks_nuc, flows, styles, diams = model.eval(img_max[selected_time], diameter=nulceus_diameter_size, flow_threshold=None, channels=channels)\n",
    "print('Cellpose detcted ', str(np.amax(masks_nuc)), 'nucleus masks')\n",
    "\n",
    "# keeping only the largest mask.\n",
    "num_masks_nuc = np.amax(masks_nuc)\n",
    "if num_masks_nuc >1:\n",
    "    masks_nuc_area = [np.count_nonzero(masks_nuc==j) for j in range(1, num_masks_nuc+1)]\n",
    "    largest_mask = np.argmax(masks_nuc_area) +1   \n",
    "    masks_nuc =  np.where(masks_nuc == largest_mask, 1, 0) \n",
    "\n",
    "# Plotting\n",
    "num_col = 2\n",
    "fig, ax = plt.subplots(nrows=1, ncols=num_col,figsize=(15,7))\n",
    "ax[0].imshow(img_max[selected_time],cmap='viridis' )\n",
    "ax[1].imshow(masks_nuc,cmap='Greys')\n",
    "plt.show()"
   ]
  },
  {
   "cell_type": "markdown",
   "metadata": {},
   "source": [
    "The following code removes cytosol masks that do not contain a cytosol."
   ]
  },
  {
   "cell_type": "code",
   "execution_count": null,
   "metadata": {},
   "outputs": [],
   "source": [
    "# Keeping only masks with nucleus\n",
    "def is_nucleus_in_cytosol(mask_n, mask_c):\n",
    "    ''' This function detects if a cytosol has a nucleus. Returns 1 if true.'''\n",
    "    mask_n[mask_n>1]=1\n",
    "    mask_c[mask_c>1]=1\n",
    "    size_mask_n = np.count_nonzero(mask_n)\n",
    "    mask_combined =  mask_n + mask_c\n",
    "    sum_mask = np.count_nonzero(mask_combined[mask_combined==2])\n",
    "    if (sum_mask> size_mask_n*0.8): # the element is inside if the two masks overlap over the 80% of the smaller mask.\n",
    "        return 1\n",
    "    else:\n",
    "        return 0"
   ]
  },
  {
   "cell_type": "code",
   "execution_count": null,
   "metadata": {},
   "outputs": [],
   "source": [
    "# Looking if the mask has a nucleus\n",
    "number_cytosols = np.amax(masks_cyto)\n",
    "is_cyto_with_a_nucleus = np.zeros(number_cytosols,dtype='int') # prealocating an array\n",
    "for i in range (1,number_cytosols+1): # iterating for each mask in the cytosol \n",
    "    masks_cyto_temp =  np.where(masks_cyto == i, 1, 0)\n",
    "    is_cyto_with_a_nucleus[i-1] = is_nucleus_in_cytosol(masks_nuc, masks_cyto_temp)\n",
    "\n",
    "# removing cytosol masks without nucleus\n",
    "masks_cyto_complete = np.zeros_like(masks_cyto) # Prealocating an array to contain the final masks \n",
    "counter = 1\n",
    "for i in range (1,number_cytosols+1): # iterating for each mask in the cytosol \n",
    "    if is_cyto_with_a_nucleus[i-1] == True:\n",
    "        # Keeping only the masks with a  nucleus\n",
    "        masks_cyto_complete =  np.where(masks_cyto == i, counter, 0) \n",
    "        counter+=1\n",
    "# cytosol without nucleus\n",
    "masks_cyto_no_nucleus = masks_cyto_complete - masks_nuc\n"
   ]
  },
  {
   "cell_type": "code",
   "execution_count": null,
   "metadata": {},
   "outputs": [],
   "source": [
    "# Plotting\n",
    "num_col = 3\n",
    "fig, ax = plt.subplots(nrows=1, ncols=num_col,figsize=(15,7))\n",
    "ax[0].imshow(masks_cyto_complete,cmap='Greys' )\n",
    "ax[0].set_title('Cytosol + nuc')\n",
    "ax[1].imshow(masks_nuc,cmap='Greys')\n",
    "ax[1].set_title('nucleus')\n",
    "ax[2].imshow(masks_cyto_no_nucleus,cmap='Greys')\n",
    "ax[2].set_title('cytosol wo nuc')\n",
    "plt.show()\n"
   ]
  },
  {
   "cell_type": "code",
   "execution_count": null,
   "metadata": {},
   "outputs": [],
   "source": [
    "# apply the mask to the complete movie\n",
    "masked_img = np.multiply(img_max,masks_cyto_no_nucleus)\n",
    "print('masked image shape', str(masked_img.shape))\n",
    "\n",
    "# plotting some frames of the masked image\n",
    "num_col = 5\n",
    "fig, ax = plt.subplots(nrows=1, ncols=num_col,figsize=(20,7))\n",
    "for i in range(0,num_col):\n",
    "    ax[i].imshow(masked_img[i],cmap='Greys')\n",
    "    ax[i].set_title('frame'+str(i) )\n",
    "plt.show()"
   ]
  },
  {
   "cell_type": "code",
   "execution_count": null,
   "metadata": {},
   "outputs": [],
   "source": [
    "# Finding good settings: 'Detect test' button\n",
    "\n",
    "# locate spots in a given time\n",
    "f = tp.locate(img_max[selected_time], particle_diameter,minmass=min_mass_intensity)\n",
    "coords = np.array([f.y, f.x]).T # These are the points detected by trackpy\n",
    "coords_int = np.round(coords).astype(int)  # or np.floor, depends\n",
    "values_at_coords = masks_cyto_no_nucleus[tuple(coords_int.T)] # If 1 the value is in the mask\n",
    "f['In Mask']=values_at_coords # Check if pts are on/in polygon mask  \n",
    "\n",
    "# Plotting the spots in the cytosol\n",
    "plt.figure(figsize=(7, 7))\n",
    "plt.grid(False)\n",
    "tp.annotate(f[f['In Mask']==True], img_max[0])\n",
    "plt.show()"
   ]
  },
  {
   "cell_type": "code",
   "execution_count": null,
   "metadata": {},
   "outputs": [],
   "source": [
    "def spots_in_mask(f,mask,label):\n",
    "    # extracting the contours in the image\n",
    "    coords = np.array([f.y, f.x]).T # These are the points detected by trackpy\n",
    "    coords_int = np.round(coords).astype(int)  # or np.floor, depends\n",
    "    values_at_coords = mask[tuple(coords_int.T)] # If 1 the value is in the mask\n",
    "    f[label]=values_at_coords # Check if pts are on/in polygon mask  \n",
    "    return f "
   ]
  },
  {
   "cell_type": "markdown",
   "metadata": {},
   "source": [
    "If satisfied, then process the entire movie the same way:"
   ]
  },
  {
   "cell_type": "code",
   "execution_count": null,
   "metadata": {},
   "outputs": [],
   "source": [
    "dataframe_directory =  current_dir.joinpath('dataframes')\n",
    "if not os.path.exists(str(dataframe_directory)):\n",
    "    os.makedirs(str('dataframes'))"
   ]
  },
  {
   "cell_type": "code",
   "execution_count": null,
   "metadata": {},
   "outputs": [],
   "source": [
    "data_frame_file_name =  current_dir.joinpath('dataframes', img_path.stem+'.csv')\n",
    "f = tp.batch(img_max, diameter=particle_diameter,minmass=min_mass_intensity)\n",
    "f_list = []\n",
    "for i in np.arange(len(f['frame'].unique())):\n",
    "    f0 = f[f['frame']==i]\n",
    "    f1 = f0.copy()\n",
    "    # Label points in cell\n",
    "    f1 = spots_in_mask(f1,masks_cyto_no_nucleus,'In_Cell') \n",
    "    # Label points in nucleus\n",
    "    f1 = spots_in_mask(f1,masks_nuc,'In_Nucleus')\n",
    "    f_list.append(f1)\n",
    "f_all = pd.concat(f_list)\n",
    "f_all.to_csv(data_frame_file_name)\n",
    "f_all"
   ]
  },
  {
   "cell_type": "markdown",
   "metadata": {},
   "source": [
    "Convert f to crop_array format"
   ]
  },
  {
   "cell_type": "code",
   "execution_count": null,
   "metadata": {},
   "outputs": [],
   "source": [
    "spots = f_all.copy() # Nice to copy; seems it can cause to overwrite otherwise\n",
    "spots['id']=spots.index\n",
    "spots.rename(columns={'x': 'xc','y': 'yc', 'frame': 'f','signal':'signal_tp'}, \n",
    "inplace=True, errors='raise')\n",
    "spots['fov']=0\n",
    "spots.rename(columns={'particle':'id'})\n",
    "spots = spots[['fov','id','f','yc','xc','signal_tp','In_Cell','In_Nucleus']] # keeping signal out of curiousity... want to compare to disk-donut measurements  "
   ]
  },
  {
   "cell_type": "code",
   "execution_count": null,
   "metadata": {},
   "outputs": [],
   "source": [
    "spots"
   ]
  },
  {
   "cell_type": "markdown",
   "metadata": {},
   "source": [
    "## Create Crop Array\n",
    "____"
   ]
  },
  {
   "cell_type": "markdown",
   "metadata": {},
   "source": [
    "Create a crop array from 4D movie"
   ]
  },
  {
   "cell_type": "code",
   "execution_count": null,
   "metadata": {},
   "outputs": [],
   "source": [
    "my_ca = ca.create_crop_array(img_croparray,spots,xy_pad=particle_diameter//2+1, dxy=130, dz=500, dt=1, units=['nm','min'], name = str(img_path))\n",
    "my_ca"
   ]
  },
  {
   "cell_type": "markdown",
   "metadata": {},
   "source": [
    "## Save the crop array\n",
    "____"
   ]
  },
  {
   "cell_type": "code",
   "execution_count": null,
   "metadata": {},
   "outputs": [],
   "source": [
    "croparray_file_name = os.path.join(img_path.stem+'.nc')\n",
    "my_ca.to_netcdf(path=croparray_file_name)"
   ]
  },
  {
   "cell_type": "markdown",
   "metadata": {},
   "source": [
    "## Quantify signal intensity through time\n",
    "____"
   ]
  },
  {
   "cell_type": "code",
   "execution_count": null,
   "metadata": {},
   "outputs": [],
   "source": [
    "# Measure signals and plot average signal through time, creating 'best_z' layer and 'signal' layer\n",
    "ca.measure_signal(my_ca, ref_ch=1, disk_r=3, roll_n=3)"
   ]
  },
  {
   "cell_type": "code",
   "execution_count": null,
   "metadata": {},
   "outputs": [],
   "source": [
    "my_ca.best_z.mean('n').sel(fov=0,ch=1).rolling(t=3,min_periods=1).mean().plot.imshow(col='t',col_wrap=10,robust=True,xticks=[],yticks=[],size=1.5,cmap='gray', vmin=0, vmax =500)"
   ]
  },
  {
   "cell_type": "markdown",
   "metadata": {},
   "source": [
    "Let's compare our disk-donut 'signal' layer (acquired from 3D image) to trackpy's (acquired from max-projection):"
   ]
  },
  {
   "cell_type": "code",
   "execution_count": null,
   "metadata": {},
   "outputs": [],
   "source": [
    "# Let's compare our intensity numbers to those from trackpy:\n",
    "my_ca.where(my_ca.signal>0).plot.scatter(x='signal',y='signal_tp',col='ch',hue='ch',colors=['red','limegreen','blue'],levels=[0,1,2,3])"
   ]
  },
  {
   "cell_type": "markdown",
   "metadata": {},
   "source": [
    "Let's look at average signal vs time"
   ]
  },
  {
   "cell_type": "code",
   "execution_count": null,
   "metadata": {},
   "outputs": [],
   "source": [
    "# Let's look at average signal vs time\n",
    "start_sig = my_ca.signal.mean('n').sel(t=slice(0,4)).mean('t')\n",
    "end_sig = 0# my_ca.signal.mean('n').sel(t=slice(15,20)).mean('t')\n",
    "norm_sig = (my_ca.signal.mean('n') - end_sig)/(start_sig - end_sig)\n",
    "sns.set_palette(['limegreen','limegreen','blue'])\n",
    "norm_sig.sel(fov=0,ch=1).plot.line(x='t',hue='ch')"
   ]
  },
  {
   "cell_type": "markdown",
   "metadata": {},
   "source": [
    "Now let's just use trackpy's values:"
   ]
  },
  {
   "cell_type": "code",
   "execution_count": null,
   "metadata": {},
   "outputs": [],
   "source": [
    "# Let's look at average signal vs time\n",
    "start_sig = my_ca.signal_tp.mean('n').sel(t=slice(0,4)).mean('t')\n",
    "end_sig = 0# my_ca.signal_tp.mean('n').sel(t=slice(15,20)).mean('t')\n",
    "norm_sig = (my_ca.signal_tp.mean('n') - end_sig)/(start_sig - end_sig)\n",
    "sns.set_palette(['limegreen','limegreen','blue'])\n",
    "norm_sig.sel(fov=0).plot.line(x='t',hue='ch')"
   ]
  },
  {
   "cell_type": "markdown",
   "metadata": {},
   "source": [
    "I guess trackpy and the disk donut method do a very good job at getting the intensities of spots. Although note that trackpy got the values from the max-intensity projection. Interesting."
   ]
  },
  {
   "cell_type": "markdown",
   "metadata": {},
   "source": [
    "## Visualize crop array montage with Napari\n",
    "___"
   ]
  },
  {
   "cell_type": "markdown",
   "metadata": {},
   "source": [
    "Now let's see a montage of the selected spots' best-z planes:"
   ]
  },
  {
   "cell_type": "code",
   "execution_count": null,
   "metadata": {},
   "outputs": [],
   "source": [
    "%gui qt5 \n",
    "import napari\n",
    "from napari.utils import nbscreenshot\n",
    "viewer = napari.Viewer()"
   ]
  },
  {
   "cell_type": "code",
   "execution_count": null,
   "metadata": {},
   "outputs": [],
   "source": [
    "viewer = napari.view_image(ca.montage(my_ca.sel(fov=0,ch=0).best_z,row='n',col='t'),contrast_limits=[60,800])\n",
    "nbscreenshot(viewer)"
   ]
  },
  {
   "cell_type": "code",
   "execution_count": null,
   "metadata": {},
   "outputs": [],
   "source": []
  }
 ],
 "metadata": {
  "kernelspec": {
   "display_name": "Python 3",
   "language": "python",
   "name": "python3"
  },
  "language_info": {
   "codemirror_mode": {
    "name": "ipython",
    "version": 3
   },
   "file_extension": ".py",
   "mimetype": "text/x-python",
   "name": "python",
   "nbconvert_exporter": "python",
   "pygments_lexer": "ipython3",
   "version": "3.8.12"
  }
 },
 "nbformat": 4,
 "nbformat_minor": 4
}
