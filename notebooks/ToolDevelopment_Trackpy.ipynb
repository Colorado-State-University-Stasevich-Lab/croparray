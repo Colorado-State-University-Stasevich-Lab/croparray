{
 "cells": [
  {
   "cell_type": "markdown",
   "metadata": {},
   "source": [
    "# Initiation"
   ]
  },
  {
   "cell_type": "code",
   "execution_count": 1,
   "metadata": {
    "jupyter": {
     "source_hidden": true
    }
   },
   "outputs": [],
   "source": [
    "# To manipulate arrays\n",
    "import numpy as np \n",
    "\n",
    "# To handle track DataFrames\n",
    "import pandas as pd\n",
    "\n",
    "# For working with x-arrays\n",
    "import xarray as xr\n",
    "\n",
    "# To import images\n",
    "from skimage import io \n",
    "from skimage.io import imread\n",
    "\n",
    "# For TrackPy\n",
    "import trackpy as tp\n",
    "\n",
    "# To make plots\n",
    "import matplotlib as mpl \n",
    "import matplotlib.pyplot as plt \n",
    "import seaborn as sns; sns.set()  \n",
    "\n",
    "# To work inline; change to %matplotlib notebook for interactive plotting\n",
    "%matplotlib inline \n",
    "\n",
    "# Napari \n",
    "#%gui qt5 \n",
    "from skimage import data\n",
    "#import napari\n",
    "\n",
    "# Image processing and filters\n",
    "from skimage.filters import difference_of_gaussians\n",
    "\n",
    "# For directories \n",
    "import os\n",
    "from pathlib import Path, PureWindowsPath # for working with windows paths\n",
    "\n",
    "# For reloading a library when testing\n",
    "import importlib\n",
    "\n",
    "# For deleting/reloading modules in another file for code testing\n",
    "import sys\n",
    "\n",
    "# Import trackArrayTools\n",
    "cwd = os.getcwd()\n",
    "os.chdir(\"../croparray\")\n",
    "import crop_array_tools as ca\n",
    "os.chdir(cwd)\n",
    "\n",
    "plt.style.use('dark_background')\n"
   ]
  },
  {
   "cell_type": "code",
   "execution_count": 2,
   "metadata": {},
   "outputs": [],
   "source": [
    "# parameters\n",
    "particle_diameter=(3, 7, 7)   # z,y,x size of the spot\n",
    "separation_spots=(1, 7, 7)    # distance in z,y,x to differentiate an spot\n",
    "\n",
    "tracking_channel = 0\n",
    "min_trajectory_length = 20\n",
    "\n",
    "# selecting time and z for visualization\n",
    "selected_time = 4 \n",
    "selected_z = 3 \n",
    "\n",
    "# Video directory\n",
    "video_3D_directory = r'../database'\n",
    "video_3D_filename = r'Hela_confocal.tif'  \n"
   ]
  },
  {
   "cell_type": "code",
   "execution_count": 4,
   "metadata": {},
   "outputs": [
    {
     "data": {
      "text/plain": [
       "(1, 33, 7, 472, 312, 3)"
      ]
     },
     "execution_count": 4,
     "metadata": {},
     "output_type": "execute_result"
    }
   ],
   "source": [
    "# Read in video; note I added an fov dimension using np.array since this is only 1 fov\n",
    "video = np.array([imread(os.path.join(video_3D_directory,video_3D_filename))])\n",
    "video.shape # dimensions MUST be (fov, f = frame, z, y, x, ch)"
   ]
  },
  {
   "cell_type": "code",
   "execution_count": null,
   "metadata": {},
   "outputs": [],
   "source": [
    "# Just examining one of the images\n",
    "f = plt.figure(figsize=(10,10))\n",
    "myimg=np.max(video[0,selected_time,:,:,:,tracking_channel] ,axis=0)\n",
    "print(myimg.shape)\n",
    "plt.imshow(myimg,cmap='gray')"
   ]
  },
  {
   "cell_type": "markdown",
   "metadata": {},
   "source": [
    "# Tracking with trackpy"
   ]
  },
  {
   "cell_type": "code",
   "execution_count": null,
   "metadata": {},
   "outputs": [],
   "source": [
    "# Detecting particles for each frame\n",
    "f = tp.batch(video[0,:, :, :, :,tracking_channel], diameter=particle_diameter, separation=separation_spots)\n",
    "# Converting pixels to nm\n",
    "f['xum'] = f['x'] * 0.13\n",
    "f['yum'] = f['y'] * 0.13\n",
    "f['zum'] = f['z'] * 0.5\n",
    "# Linking trajectories\n",
    "linked = tp.link_df(f, 0.5, pos_columns=['xum', 'yum', 'zum'])\n",
    "# Filtering with minimum length\n",
    "filtered_df = tp.filter_stubs(linked, min_trajectory_length)\n",
    "# Renaming columns names\n",
    "filtered_df.rename(columns={'x': 'xc','y': 'yc', 'z': 'zc', 'frame': 'f','particle':'id','mass':'MEAN_INTENSITY'}, inplace=True, errors='raise')\n",
    "# Chaning data type\n",
    "spots = filtered_df.astype({'zc': int,'yc': int,'xc': int,'f': int,'id': int,'MEAN_INTENSITY': int})\n",
    "spots['fov']= 0  \n",
    "# Selecting some columns\n",
    "spots=spots[['fov','f','id','zc','yc','xc','MEAN_INTENSITY']]\n",
    "spots"
   ]
  },
  {
   "cell_type": "markdown",
   "metadata": {},
   "source": [
    "# Creatng croparray"
   ]
  },
  {
   "cell_type": "code",
   "execution_count": null,
   "metadata": {},
   "outputs": [],
   "source": [
    "my_ca = ca.create_crop_array(video,spots,xy_pad=5)\n",
    "my_ca"
   ]
  },
  {
   "cell_type": "code",
   "execution_count": null,
   "metadata": {},
   "outputs": [],
   "source": [
    "# Check the first 10 spots (max-z projected) of each fov to make sure things are centered. \n",
    "# Choosing ch = 1, 2 (translation), and 3 for rgb mapping\n",
    "my_ca.int.sel(ch=[0,1,2],n=slice(0,10)).mean(dim=['t']).max('z').plot.imshow(col='n',row='fov',rgb='ch',cmap='gray',xticks=[],yticks=[])"
   ]
  },
  {
   "cell_type": "code",
   "execution_count": null,
   "metadata": {},
   "outputs": [],
   "source": [
    "# Create best-z projection using channel 2 (translation) as a reference. taking bestz +/- 1 here (roll_n = 3)\n",
    "best_z = ca.best_z_proj(my_ca, ref_ch=2, disk_r=3, roll_n=3)\n",
    "best_z = my_ca.int.max('z')\n",
    "\n",
    "# measure intensity in disk with radius of 3 pixels:\n",
    "disk_sig = best_z.where(lambda a: a.x**2 + a.y**2 <= (3*my_ca.dx)**2).mean(dim=['x','y'])\n",
    "\n",
    "# measure intensity in donut with width 1 pixel and inner radius of 5 pixels:\n",
    "donut_sig = best_z.where(lambda a: (a.x**2 + a.y**2 >= (5*my_ca.dx)**2) & (a.x**2 + a.y**2 < (6*my_ca.dx)**2)).mean(dim=['x','y'])\n",
    "\n",
    "# disk-donut intensity quantification\n",
    "signal = disk_sig - donut_sig \n",
    "\n",
    "# create a best-z projection that is background subtracted\n",
    "best_z_bg = best_z -donut_sig\n",
    "\n",
    "# add signal layer to original crop array for sorting and things\n",
    "my_ca['signal'] = signal"
   ]
  },
  {
   "cell_type": "code",
   "execution_count": null,
   "metadata": {},
   "outputs": [],
   "source": [
    "# Repeat measurement above, but looking at background-subtracted image instead of standard max-projection\n",
    "# You can see a big improvement in signal, by taking the best plane... Can get slighly better with roll_n = 1 above, but more noisy?\n",
    "best_z_bg.sel(ch=[0,1,2],n=slice(0,10)).mean(dim=['t']).plot.imshow(col='n',row='fov',rgb='ch',cmap='gray',xticks=[],yticks=[],vmin=0, vmax=30000,aspect=1)"
   ]
  }
 ],
 "metadata": {
  "kernelspec": {
   "display_name": "Python 3",
   "language": "python",
   "name": "python3"
  },
  "language_info": {
   "codemirror_mode": {
    "name": "ipython",
    "version": 3
   },
   "file_extension": ".py",
   "mimetype": "text/x-python",
   "name": "python",
   "nbconvert_exporter": "python",
   "pygments_lexer": "ipython3",
   "version": "3.8.12"
  }
 },
 "nbformat": 4,
 "nbformat_minor": 4
}
