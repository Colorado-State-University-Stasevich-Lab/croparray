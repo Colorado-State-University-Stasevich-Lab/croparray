{
 "cells": [
  {
   "cell_type": "markdown",
   "metadata": {},
   "source": [
    "# Converting int16 to int8"
   ]
  },
  {
   "cell_type": "code",
   "execution_count": null,
   "metadata": {},
   "outputs": [],
   "source": [
    "import matplotlib.pyplot as plt # Library used for plotting\n",
    "import numpy as np # library for array manipulation\n",
    "import tifffile # library to store numpy arrays in TIFF\n",
    "import pathlib # library to work with file paths\n",
    "from skimage.io import imread\n",
    "plt.style.use('dark_background')"
   ]
  },
  {
   "cell_type": "code",
   "execution_count": null,
   "metadata": {},
   "outputs": [],
   "source": [
    "def convert_int_8(img,destination_name_and_path=None,max_frames=None,list_chanels_to_export=None):\n",
    "    '''\n",
    "    This function is inteded to normalize img and change the image to the specified target_type\n",
    "      img: numpy array. This function expects an input array with the first column containing the frames in the image. #[T,Z,Y,X,C]\n",
    "      destination_name_and_path: string or path including the name and extension of the new image.\n",
    "      max_frames: int, indicating the maximum number of frames to consider.\n",
    "      list_chanels_to_export: list of int. List of channels to export in the final file.\n",
    "    '''\n",
    "    # Changing the img to int8\n",
    "    new_img = (img/ img.max()) *255\n",
    "    new_img = np.uint8(new_img)\n",
    "    \n",
    "    # Reducing the number of frames\n",
    "    if not (max_frames is None) and (img.shape[0]>max_frames):\n",
    "      new_img=new_img[0:max_frames,...]\n",
    "    \n",
    "    if not (list_chanels_to_export is None):\n",
    "      new_img=new_img[...,list_chanels_to_export]\n",
    "          \n",
    "    # Saving the image as .tif\n",
    "    if not (destination_name_and_path is None):\n",
    "      tifffile.imwrite(destination_name_and_path, new_img)\n",
    "    return new_img"
   ]
  },
  {
   "cell_type": "code",
   "execution_count": null,
   "metadata": {},
   "outputs": [],
   "source": [
    "# Main directory\n",
    "current_dir = pathlib.Path().absolute()\n",
    "# Image to convert\n",
    "#image_path= current_dir.parents[0].joinpath('dataBase','Hela','Hela_confocal_int8.tif') \n",
    "#image_path = current_dir.parents[0].joinpath('dataBase').joinpath('FISH_Analysis','GAPDH_Exon_Cy5_short','ROI002_XY1620755646_Z00_T0_merged.tif') \n",
    "#image_path = current_dir.parents[0].joinpath('dataBase').joinpath('RAN','Cell03.tif') \n",
    "#image_path = current_dir.parents[0].joinpath('dataBase').joinpath('smFLAG-ActB','MAX_Cell01.tif')\n",
    "#image_path = current_dir.parents[0].joinpath('dataBase').joinpath('Gabriel_HT_example','MAX_bactin_Cell04_Good.tif')\n",
    "\n",
    "# Directories for images and database\n",
    "new_image_path=image_path.parents[0].joinpath(image_path.stem+'_int8.tif')\n"
   ]
  },
  {
   "cell_type": "code",
   "execution_count": null,
   "metadata": {},
   "outputs": [],
   "source": [
    "# Reading the original image as numpy arrays\n",
    "original_image = imread(str(image_path)) \n",
    "print('Original image')\n",
    "print('Image shape: ', original_image.shape) #[T,Z,Y,X,C]\n",
    "print(\"File size : \", round(image_path.stat().st_size/1e6),' Mb' )\n",
    "print(\"Image range:  (\", np.min(original_image), ',' , np.max(original_image) ,')' )"
   ]
  },
  {
   "cell_type": "code",
   "execution_count": null,
   "metadata": {},
   "outputs": [],
   "source": [
    "#Convert an image to unsigned byte format, with values in [0, 255].\n",
    "img_int8 = convert_int_8(original_image, destination_name_and_path=new_image_path,max_frames=None,list_chanels_to_export=None)\n",
    "print('int8 image')\n",
    "print('Image shape: ', img_int8.shape)  #[T,Z,Y,X,C]\n",
    "print(\"File size : \", round(new_image_path.stat().st_size/1e6),' Mb' )\n",
    "print(\"Image range:  (\", np.min(img_int8), ',' , np.max(img_int8) ,')' )"
   ]
  },
  {
   "cell_type": "code",
   "execution_count": null,
   "metadata": {},
   "outputs": [],
   "source": [
    "# Just examining one of the images works for images with  the following dimensions [T,Z,Y,X,C] or [T,Y,X,C]\n",
    "num_channels = 3\n",
    "fig, ax = plt.subplots(nrows=1, ncols=num_channels,figsize=(20,10))\n",
    "for i in range(0,num_channels):\n",
    "    if len(img_int8.shape) ==4: #[T,Y,X,C]\n",
    "        ax[i].imshow(np.max(img_int8[:,:,:,i] ,axis=0) )\n",
    "    elif len(img_int8.shape) ==5: #[T,Z,Y,X,C]\n",
    "        ax[i].imshow(np.max(img_int8[0,:,:,:,i] ,axis=0) )\n",
    "    ax[i].grid(False)"
   ]
  },
  {
   "cell_type": "code",
   "execution_count": null,
   "metadata": {},
   "outputs": [],
   "source": []
  }
 ],
 "metadata": {
  "kernelspec": {
   "display_name": "Python 3",
   "language": "python",
   "name": "python3"
  },
  "language_info": {
   "codemirror_mode": {
    "name": "ipython",
    "version": 3
   },
   "file_extension": ".py",
   "mimetype": "text/x-python",
   "name": "python",
   "nbconvert_exporter": "python",
   "pygments_lexer": "ipython3",
   "version": "3.8.12"
  }
 },
 "nbformat": 4,
 "nbformat_minor": 4
}
